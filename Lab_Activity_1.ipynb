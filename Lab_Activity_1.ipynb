{
  "nbformat": 4,
  "nbformat_minor": 0,
  "metadata": {
    "colab": {
      "provenance": [],
      "authorship_tag": "ABX9TyNJho5coye0iyXrvTFQBlWp",
      "include_colab_link": true
    },
    "kernelspec": {
      "name": "python3",
      "display_name": "Python 3"
    },
    "language_info": {
      "name": "python"
    }
  },
  "cells": [
    {
      "cell_type": "markdown",
      "metadata": {
        "id": "view-in-github",
        "colab_type": "text"
      },
      "source": [
        "<a href=\"https://colab.research.google.com/github/YoshinoreDaichi/58003-OOP/blob/main/Lab_Activity_1.ipynb\" target=\"_parent\"><img src=\"https://colab.research.google.com/assets/colab-badge.svg\" alt=\"Open In Colab\"/></a>"
      ]
    },
    {
      "cell_type": "code",
      "execution_count": 3,
      "metadata": {
        "colab": {
          "base_uri": "https://localhost:8080/"
        },
        "id": "dXeZJ4L5z3Yi",
        "outputId": "1e3b1414-8572-45ed-ac87-9cf919831926"
      },
      "outputs": [
        {
          "output_type": "stream",
          "name": "stdout",
          "text": [
            "210\n",
            "Average 10.5\n"
          ]
        }
      ],
      "source": [
        "n = 20\n",
        "totalnumbers = n\n",
        "sum = 0\n",
        "average = 0\n",
        "while n>=0:\n",
        "  sum+=n\n",
        "  n-=1\n",
        "\n",
        "else:\n",
        "  print(sum)\n",
        "\n",
        "average = sum/totalnumbers\n",
        "print(\"Average\",average)"
      ]
    }
  ]
}