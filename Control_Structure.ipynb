{
  "nbformat": 4,
  "nbformat_minor": 0,
  "metadata": {
    "colab": {
      "provenance": [],
      "authorship_tag": "ABX9TyMEMQeqLtpAS3h0sKs23rnH",
      "include_colab_link": true
    },
    "kernelspec": {
      "name": "python3",
      "display_name": "Python 3"
    },
    "language_info": {
      "name": "python"
    }
  },
  "cells": [
    {
      "cell_type": "markdown",
      "metadata": {
        "id": "view-in-github",
        "colab_type": "text"
      },
      "source": [
        "<a href=\"https://colab.research.google.com/github/YoshinoreDaichi/58003-OOP/blob/main/Control_Structure.ipynb\" target=\"_parent\"><img src=\"https://colab.research.google.com/assets/colab-badge.svg\" alt=\"Open In Colab\"/></a>"
      ]
    },
    {
      "cell_type": "markdown",
      "source": [
        "If and Elif "
      ],
      "metadata": {
        "id": "nDvsT8fg-J0p"
      }
    },
    {
      "cell_type": "code",
      "execution_count": 1,
      "metadata": {
        "colab": {
          "base_uri": "https://localhost:8080/"
        },
        "id": "Idn4SSRM9-_V",
        "outputId": "a42a9a93-1979-485e-dcd5-3917eb45837f"
      },
      "outputs": [
        {
          "output_type": "stream",
          "name": "stdout",
          "text": [
            "five is greater than three\n"
          ]
        }
      ],
      "source": [
        "if 5>3:\n",
        "  print(\"five is greater than three\")\n",
        "elif 5<3:\n",
        "    print(\"five is less than three\")"
      ]
    },
    {
      "cell_type": "markdown",
      "source": [
        "If, Elif, and Else"
      ],
      "metadata": {
        "id": "P4IwBXpN-M34"
      }
    },
    {
      "cell_type": "code",
      "source": [
        "if 3>2:\n",
        "  print(\"three is greater than two\")\n",
        "elif 3<2:\n",
        "  print(\"three is less than two\")\n",
        "else:\n",
        "  print(\"3 is equal 2\")"
      ],
      "metadata": {
        "colab": {
          "base_uri": "https://localhost:8080/"
        },
        "id": "8wPc_sQ5-Rng",
        "outputId": "749fb6f0-8d68-4103-be9e-a6cd34763f7f"
      },
      "execution_count": 3,
      "outputs": [
        {
          "output_type": "stream",
          "name": "stdout",
          "text": [
            "three is greater than two\n"
          ]
        }
      ]
    },
    {
      "cell_type": "markdown",
      "source": [
        "Application 1- create a python program that will compare if the students is in Elementary, Secondary, and Tertiary level"
      ],
      "metadata": {
        "id": "-b75tka6-Xaw"
      }
    },
    {
      "cell_type": "code",
      "source": [
        "print(\"Type the grade level of student\")\n",
        "print(\"1 - 6 = Elementary\")\n",
        "print(\"7 - 12 = Secondary\")\n",
        "print(\"None of the choices above = Tertiary\")\n",
        "\n",
        "x = int (input())\n",
        "if x ==1 or x ==2 or x==3 or x==4 or x==5 or x==6:\n",
        "  print(\"Elementary\")\n",
        "elif x==7 or x==8 or x==9 or x==10 or x==11 or x==12:\n",
        "  print(\"Secondary\")\n",
        "else:\n",
        "  print(\"You're in Tertiary level\")"
      ],
      "metadata": {
        "colab": {
          "base_uri": "https://localhost:8080/"
        },
        "id": "tgw8__EY_MF6",
        "outputId": "88736d9c-3a5b-42dc-adad-56696ffa1f2b"
      },
      "execution_count": 14,
      "outputs": [
        {
          "output_type": "stream",
          "name": "stdout",
          "text": [
            "Type the grade level of student\n",
            "1 - 6 = Elementary\n",
            "7 - 12 = Secondary\n",
            "None of the choices above = Tertiary\n",
            "14\n",
            "You're in Tertiary level\n"
          ]
        }
      ]
    },
    {
      "cell_type": "markdown",
      "source": [
        "Short Hand If Statement"
      ],
      "metadata": {
        "id": "6Qy_D6rTBuvO"
      }
    },
    {
      "cell_type": "code",
      "source": [
        "a = 1\n",
        "b = 2\n",
        "\n",
        "if a<b: print(\"a is less than b\")"
      ],
      "metadata": {
        "colab": {
          "base_uri": "https://localhost:8080/"
        },
        "id": "S1i_RpmVBucP",
        "outputId": "b9b40322-9b0b-413f-b6e7-224cf606035e"
      },
      "execution_count": 15,
      "outputs": [
        {
          "output_type": "stream",
          "name": "stdout",
          "text": [
            "a is less than b\n"
          ]
        }
      ]
    },
    {
      "cell_type": "markdown",
      "source": [
        "Short Hand if and else statement"
      ],
      "metadata": {
        "id": "reBWzj8PCQMe"
      }
    },
    {
      "cell_type": "code",
      "source": [
        "print (\"a is less than b\") if a<b else print(\"a is greater than b\")"
      ],
      "metadata": {
        "colab": {
          "base_uri": "https://localhost:8080/"
        },
        "id": "VCh1jQcOCmfW",
        "outputId": "d7ddaf67-c12d-40f4-cd58-bba730e2d4fc"
      },
      "execution_count": 16,
      "outputs": [
        {
          "output_type": "stream",
          "name": "stdout",
          "text": [
            "a is less than b\n"
          ]
        }
      ]
    },
    {
      "cell_type": "markdown",
      "source": [
        "Nested if"
      ],
      "metadata": {
        "id": "1l2jCoLpDRZA"
      }
    },
    {
      "cell_type": "code",
      "source": [
        "x = 41\n",
        "\n",
        "if x>10:\n",
        "  print(\"above ten,\")\n",
        "  if x>20:\n",
        "    print(\"and also above 20\")\n",
        "    if x>30:\n",
        "      print(\"and also above 30\")\n",
        "      if x>40:\n",
        "        print(\"and also above 40\")\n",
        "        if x<50:\n",
        "          print(\"but below 50\")\n",
        "        else:\n",
        "          print(\"below 50\")\n"
      ],
      "metadata": {
        "colab": {
          "base_uri": "https://localhost:8080/"
        },
        "id": "fIEFUwkQIkr3",
        "outputId": "7fe78573-bfb8-40a2-bc5e-b6f14a713174"
      },
      "execution_count": 41,
      "outputs": [
        {
          "output_type": "stream",
          "name": "stdout",
          "text": [
            "above ten,\n",
            "and also above 20\n",
            "and also above 30\n",
            "and also above 40\n",
            "but below 50\n"
          ]
        }
      ]
    },
    {
      "cell_type": "markdown",
      "source": [
        "Example 1"
      ],
      "metadata": {
        "id": "Gq7RCzH4KTS-"
      }
    },
    {
      "cell_type": "code",
      "source": [
        "print(\"input age\")\n",
        "x = int(input())\n",
        "\n",
        "if x>18:\n",
        "  print(\"Qualified to vote\")\n",
        "else:\n",
        "  print(\"Not qualified to vote\")"
      ],
      "metadata": {
        "colab": {
          "base_uri": "https://localhost:8080/"
        },
        "id": "Hnpz_eHgKVte",
        "outputId": "c21db3f4-64c1-4f0d-9dd7-4901ee7bdbc1"
      },
      "execution_count": 43,
      "outputs": [
        {
          "output_type": "stream",
          "name": "stdout",
          "text": [
            "input age\n",
            "17\n",
            "Not qualified to vote\n"
          ]
        }
      ]
    },
    {
      "cell_type": "markdown",
      "source": [
        "Example 2"
      ],
      "metadata": {
        "id": "Hz1NZQZwK2VB"
      }
    },
    {
      "cell_type": "code",
      "source": [
        "print(\"Input Number\")\n",
        "x = int(input())\n",
        "\n",
        "if x==0:\n",
        "  print(\"Zero\")\n",
        "elif x<0:\n",
        "  print(\"Negative\")\n",
        "else:\n",
        "  print(\"Positive\")"
      ],
      "metadata": {
        "colab": {
          "base_uri": "https://localhost:8080/"
        },
        "id": "lprmug3WK17S",
        "outputId": "6987786e-98fb-4105-c6bd-0b8af7dfc8ac"
      },
      "execution_count": 48,
      "outputs": [
        {
          "output_type": "stream",
          "name": "stdout",
          "text": [
            "Input Number\n",
            "-2\n",
            "Negative\n"
          ]
        }
      ]
    },
    {
      "cell_type": "markdown",
      "source": [
        "Example 3"
      ],
      "metadata": {
        "id": "1hGnO0lEMX-h"
      }
    },
    {
      "cell_type": "code",
      "source": [
        "print(\"Input 3 grades\")\n",
        "x = int(input())\n",
        "y = int(input())\n",
        "z = int(input())\n",
        "\n",
        "a = (x*0.30 + y*0.30 + z*0.40)\n",
        "print(\"Average is \",a)\n",
        "if a>70:\n",
        "  print(\"Passed\")\n",
        "elif a>69:\n",
        "  print(\"Remedial\") \n",
        "elif a>65:\n",
        "  print(\"Failed\")"
      ],
      "metadata": {
        "colab": {
          "base_uri": "https://localhost:8080/"
        },
        "id": "hTabouVEMauS",
        "outputId": "191516a3-efcb-4653-88b0-37118a999e3c"
      },
      "execution_count": 51,
      "outputs": [
        {
          "output_type": "stream",
          "name": "stdout",
          "text": [
            "Input 3 grades\n",
            "95\n",
            "85\n",
            "91\n",
            "Average is  90.4\n",
            "Passed\n"
          ]
        }
      ]
    }
  ]
}