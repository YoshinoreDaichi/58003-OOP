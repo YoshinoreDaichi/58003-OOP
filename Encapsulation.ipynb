{
  "nbformat": 4,
  "nbformat_minor": 0,
  "metadata": {
    "colab": {
      "provenance": [],
      "authorship_tag": "ABX9TyNBuNBMDpXYNTy+GScLFkJs",
      "include_colab_link": true
    },
    "kernelspec": {
      "name": "python3",
      "display_name": "Python 3"
    },
    "language_info": {
      "name": "python"
    }
  },
  "cells": [
    {
      "cell_type": "markdown",
      "metadata": {
        "id": "view-in-github",
        "colab_type": "text"
      },
      "source": [
        "<a href=\"https://colab.research.google.com/github/YoshinoreDaichi/58003-OOP/blob/main/Encapsulation.ipynb\" target=\"_parent\"><img src=\"https://colab.research.google.com/assets/colab-badge.svg\" alt=\"Open In Colab\"/></a>"
      ]
    },
    {
      "cell_type": "code",
      "execution_count": 1,
      "metadata": {
        "colab": {
          "base_uri": "https://localhost:8080/"
        },
        "id": "Cy9j0BYWVqym",
        "outputId": "2dc1fb15-16b4-4715-8ac2-8ddc261ea3e2"
      },
      "outputs": [
        {
          "output_type": "execute_result",
          "data": {
            "text/plain": [
              "7"
            ]
          },
          "metadata": {},
          "execution_count": 1
        }
      ],
      "source": [
        "class foo:\n",
        "  def __init__(self, a,b):\n",
        "    self.a = a\n",
        "    self.b = b\n",
        "  def add(self):\n",
        "    return self.a + self.b\n",
        "foo_object = foo(3,4)\n",
        "foo_object.add()"
      ]
    },
    {
      "cell_type": "code",
      "source": [
        "class Counter:\n",
        "  def __init__(self,current):\n",
        "    self.__current = 0\n",
        "  def increment(self):\n",
        "    self.__current += 1\n",
        "  def value (self):\n",
        "    return self.__current\n",
        "  def reset(self):\n",
        "    self.__current = 0\n",
        "  def display_counter(self):\n",
        "    print(\"The increment is\", self.increment())\n",
        "    print(\"The current value is\", self.value())\n",
        "    print(\"Reset values is\", self.reset())\n",
        "\n",
        "counter1 = Counter(1)\n",
        "counter1.display_counter()"
      ],
      "metadata": {
        "colab": {
          "base_uri": "https://localhost:8080/"
        },
        "id": "1auumjQdf68F",
        "outputId": "08809ad5-abdc-4117-abe6-1155f2308eef"
      },
      "execution_count": 28,
      "outputs": [
        {
          "output_type": "stream",
          "name": "stdout",
          "text": [
            "The increment is None\n",
            "The current value is 1\n",
            "Reset values is None\n"
          ]
        }
      ]
    },
    {
      "cell_type": "code",
      "source": [
        "class Person:\n",
        "  def __init__(self,name,birthdate):\n",
        "    self.name = name\n",
        "    self.birthdate = birthdate\n",
        "  def display_identity(self):\n",
        "    print(\"My name is\", self.name)\n",
        "    print(\"My birthdate is\", self.birthdate)\n",
        "class Teacher(Person):\n",
        "  pass\n",
        "\n",
        "class Student(Person):\n",
        "  pass\n",
        "\n",
        "teacher = Teacher(\"Batman\", \"January 10, 2001\")\n",
        "student = Student(\"Daichi\", \"January 12, 2004\")\n",
        "\n",
        "teacher.display_identity()\n",
        "student.display_identity()"
      ],
      "metadata": {
        "colab": {
          "base_uri": "https://localhost:8080/"
        },
        "id": "nknr6jiYibUy",
        "outputId": "0e6c8cc6-cf8a-4eb1-b821-8e037bf683bc"
      },
      "execution_count": 36,
      "outputs": [
        {
          "output_type": "stream",
          "name": "stdout",
          "text": [
            "My name is Batman\n",
            "My birthdate is January 10, 2001\n",
            "My name is Daichi\n",
            "My birthdate is January 12, 2004\n"
          ]
        }
      ]
    },
    {
      "cell_type": "code",
      "source": [
        "#Choose 5 examples of shapes (e.g. triangle, square, rectangle)\n",
        "#class name is Shape\n",
        "#sides as attributes\n",
        "#Display() method to show the number of sides\n",
        "#Apply encapsulation by mangling (double underscore)\n",
        "#Inherit the properties of each shape from the parent class Shape\n",
        "\n",
        "class Shape:\n",
        "  def __init__(self,sides):\n",
        "    self.sides = sides\n",
        "\n",
        "  def show(self):\n",
        "    print(\"The sides of the shape is\", self.sides)\n",
        "class Circle(Shape):\n",
        "  pass\n",
        "\n",
        "class Rectangle(Shape):\n",
        "  pass\n",
        "\n",
        "class Square(Shape):\n",
        "  pass\n",
        "\n",
        "class Star(Shape):\n",
        "  pass\n",
        "\n",
        "class Triangle(Shape):\n",
        "  pass\n",
        "\n",
        "circle = Circle(\"none\")\n",
        "rectangle = Rectangle(4)\n",
        "square = Square(4)\n",
        "star = Star(10)\n",
        "triangle = Triangle(3)\n",
        "\n",
        "\n",
        "circle.show()\n",
        "rectangle.show()\n",
        "square.show()\n",
        "star.show()\n",
        "triangle.show()"
      ],
      "metadata": {
        "colab": {
          "base_uri": "https://localhost:8080/"
        },
        "id": "-k1lQP9Zjb6L",
        "outputId": "624be27b-342b-47c6-cb67-a857c127656e"
      },
      "execution_count": 41,
      "outputs": [
        {
          "output_type": "stream",
          "name": "stdout",
          "text": [
            "The sides of the shape is none\n",
            "The sides of the shape is 4\n",
            "The sides of the shape is 4\n",
            "The sides of the shape is 10\n",
            "The sides of the shape is 3\n"
          ]
        }
      ]
    }
  ]
}