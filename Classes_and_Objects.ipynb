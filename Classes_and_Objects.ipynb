{
  "nbformat": 4,
  "nbformat_minor": 0,
  "metadata": {
    "colab": {
      "provenance": [],
      "authorship_tag": "ABX9TyNRDPJJbUwln1N6EqHHk2N9",
      "include_colab_link": true
    },
    "kernelspec": {
      "name": "python3",
      "display_name": "Python 3"
    },
    "language_info": {
      "name": "python"
    }
  },
  "cells": [
    {
      "cell_type": "markdown",
      "metadata": {
        "id": "view-in-github",
        "colab_type": "text"
      },
      "source": [
        "<a href=\"https://colab.research.google.com/github/YoshinoreDaichi/58003-OOP/blob/main/Classes_and_Objects.ipynb\" target=\"_parent\"><img src=\"https://colab.research.google.com/assets/colab-badge.svg\" alt=\"Open In Colab\"/></a>"
      ]
    },
    {
      "cell_type": "code",
      "execution_count": 1,
      "metadata": {
        "colab": {
          "base_uri": "https://localhost:8080/"
        },
        "id": "Bp_J2UasNY4L",
        "outputId": "c22974ea-2c00-471b-e2a9-75c19451aa70"
      },
      "outputs": [
        {
          "output_type": "stream",
          "name": "stdout",
          "text": [
            "The perimeter of the rectangle is 30\n",
            "The area of the rectangle is 50\n"
          ]
        },
        {
          "output_type": "execute_result",
          "data": {
            "text/plain": [
              "(10, 5)"
            ]
          },
          "metadata": {},
          "execution_count": 1
        }
      ],
      "source": [
        "#Write a Rectangle class in Python language with length and width as attributes\n",
        "#Create a Perimeter() and Area() as methods to compute for the perimeter and area of the rectangle\n",
        "\n",
        "class Rectangle:\n",
        "  def __init__(self,length,width):\n",
        "    self.length = length\n",
        "    self.width = width\n",
        "\n",
        "  def Perimeter(self):\n",
        "    return 2*(self.length + self.width)\n",
        "  \n",
        "  def Area(self):\n",
        "    return self.length * self.width\n",
        "\n",
        "  def Rectangle(self):\n",
        "    return self.length, self.width\n",
        "\n",
        "  def display(self):\n",
        "    print(\"The perimeter of the rectangle is\",self.Perimeter())\n",
        "    print(\"The area of the rectangle is\",self.Area())\n",
        "\n",
        "rectangle = Rectangle(10,5)\n",
        "\n",
        "rectangle.display()\n",
        "rectangle.Rectangle()"
      ]
    },
    {
      "cell_type": "code",
      "source": [
        "#Modify the object properties\n",
        "rectangle.length = 7\n",
        "\n",
        "rectangle.Rectangle()\n",
        "\n",
        "rectangle.display()"
      ],
      "metadata": {
        "colab": {
          "base_uri": "https://localhost:8080/"
        },
        "id": "GyOtUHuMXSfx",
        "outputId": "079646f9-72ef-4094-f5e3-1da88035d2ee"
      },
      "execution_count": 3,
      "outputs": [
        {
          "output_type": "stream",
          "name": "stdout",
          "text": [
            "The perimeter of the rectangle is 24\n",
            "The area of the rectangle is 35\n"
          ]
        }
      ]
    },
    {
      "cell_type": "code",
      "source": [
        "#Deletion of object properties\n",
        "\n",
        "del Rectangle\n",
        "rectangle.Rectangle()"
      ],
      "metadata": {
        "colab": {
          "base_uri": "https://localhost:8080/"
        },
        "id": "wrzza1HXXc0O",
        "outputId": "0d8584c3-aefe-4750-9242-c9e5760bcda0"
      },
      "execution_count": 4,
      "outputs": [
        {
          "output_type": "execute_result",
          "data": {
            "text/plain": [
              "(7, 5)"
            ]
          },
          "metadata": {},
          "execution_count": 4
        }
      ]
    },
    {
      "cell_type": "code",
      "source": [
        "#Write a python program to create a following:\n",
        "#Student as class name Fullname, age, and school as attributes\n",
        "#Identity as method\n",
        "#student as object name\n",
        "\n",
        "class Student:\n",
        "  def __init__(self,Fullname,age,school):\n",
        "    self.Fullname = Fullname\n",
        "    self.age = age\n",
        "    self.school = school\n",
        "    \n",
        "  def Identity(self):\n",
        "    print(\"The identity of the student is\",self.Fullname,self.age,self.school)\n",
        "  \n",
        "\n",
        "student = Student(\"Daichi\",19,\"AdU\")\n",
        "student.Identity()"
      ],
      "metadata": {
        "colab": {
          "base_uri": "https://localhost:8080/"
        },
        "id": "4lHI9Jf-RJIS",
        "outputId": "f5fe4291-56ae-4f3f-fce3-bc8a2377baab"
      },
      "execution_count": 2,
      "outputs": [
        {
          "output_type": "stream",
          "name": "stdout",
          "text": [
            "The identity of the student is Daichi 19 AdU\n"
          ]
        }
      ]
    }
  ]
}