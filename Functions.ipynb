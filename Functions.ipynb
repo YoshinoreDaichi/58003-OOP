{
  "nbformat": 4,
  "nbformat_minor": 0,
  "metadata": {
    "colab": {
      "provenance": [],
      "authorship_tag": "ABX9TyNBO5BPIt8wcGncbzKDjrIC",
      "include_colab_link": true
    },
    "kernelspec": {
      "name": "python3",
      "display_name": "Python 3"
    },
    "language_info": {
      "name": "python"
    }
  },
  "cells": [
    {
      "cell_type": "markdown",
      "metadata": {
        "id": "view-in-github",
        "colab_type": "text"
      },
      "source": [
        "<a href=\"https://colab.research.google.com/github/YoshinoreDaichi/58003-OOP/blob/main/Functions.ipynb\" target=\"_parent\"><img src=\"https://colab.research.google.com/assets/colab-badge.svg\" alt=\"Open In Colab\"/></a>"
      ]
    },
    {
      "cell_type": "code",
      "execution_count": 1,
      "metadata": {
        "colab": {
          "base_uri": "https://localhost:8080/"
        },
        "id": "RVgoRfAKCBLq",
        "outputId": "6d0d4f84-d97a-4b89-ddc5-6cff734f24ae"
      },
      "outputs": [
        {
          "output_type": "stream",
          "name": "stdout",
          "text": [
            "['abc', 1, 3, 1]\n",
            "['abc', 1, 2, 3, 1]\n"
          ]
        }
      ],
      "source": [
        "fruits = ['abc',1,3,1]\n",
        "\n",
        "print(fruits)\n",
        "fruits.insert(2,2)\n",
        "print(fruits)"
      ]
    },
    {
      "cell_type": "code",
      "source": [
        "class Persons:\n",
        "  def __init__(self,name,age):\n",
        "    self .name= name\n",
        "    self .age = age\n",
        "\n",
        "student = Persons(\"batman\",19)\n",
        "teacher = Persons(\"Mam Sayo\",40)\n",
        "print(student.name)\n",
        "print(student.age)\n",
        "\n",
        "print(teacher.name)\n",
        "print(teacher.age)"
      ],
      "metadata": {
        "colab": {
          "base_uri": "https://localhost:8080/"
        },
        "id": "V_dfAOHiCMYP",
        "outputId": "a2894a61-cbb8-42c5-c2bd-e2eff814ed7e"
      },
      "execution_count": 4,
      "outputs": [
        {
          "output_type": "stream",
          "name": "stdout",
          "text": [
            "batman\n",
            "19\n",
            "Mam Sayo\n",
            "40\n"
          ]
        }
      ]
    },
    {
      "cell_type": "code",
      "source": [
        "#function that will solve for the area of rectangle\n",
        "class Shapes:\n",
        "  def __init__(self,length,width):\n",
        "    self.length = length\n",
        "    self.width = width\n",
        "  def area(self):\n",
        "    return self. length * self.width\n",
        "\n",
        "rectangle = Shapes(10,5)\n",
        "rectangle.area()"
      ],
      "metadata": {
        "colab": {
          "base_uri": "https://localhost:8080/"
        },
        "id": "gvPhe-2vD5vO",
        "outputId": "e95ae680-2b0f-4f1b-9d99-109de5cc047e"
      },
      "execution_count": 5,
      "outputs": [
        {
          "output_type": "execute_result",
          "data": {
            "text/plain": [
              "50"
            ]
          },
          "metadata": {},
          "execution_count": 5
        }
      ]
    },
    {
      "cell_type": "markdown",
      "source": [
        "Lists"
      ],
      "metadata": {
        "id": "LsYaaQBqJDvj"
      }
    },
    {
      "cell_type": "code",
      "source": [
        "pi = 3.1416\n",
        "varlist = [1, 2, 'abc', \"Hello\", pi]\n",
        "print(varlist[0])\n",
        "print(varlist[4])"
      ],
      "metadata": {
        "colab": {
          "base_uri": "https://localhost:8080/"
        },
        "id": "WzCpv6YyJGPy",
        "outputId": "b517e269-cd41-481c-e0e5-92550e53b155"
      },
      "execution_count": 9,
      "outputs": [
        {
          "output_type": "stream",
          "name": "stdout",
          "text": [
            "1\n",
            "3.1416\n"
          ]
        }
      ]
    },
    {
      "cell_type": "code",
      "source": [
        "varlist.append(5)\n",
        "print(varlist)"
      ],
      "metadata": {
        "colab": {
          "base_uri": "https://localhost:8080/"
        },
        "id": "PKZITpQsKMfD",
        "outputId": "2c7475b0-9d21-47b7-a714-8520fd3be957"
      },
      "execution_count": 10,
      "outputs": [
        {
          "output_type": "stream",
          "name": "stdout",
          "text": [
            "[1, 2, 'abc', 'Hello', 3.1416, 5]\n"
          ]
        }
      ]
    },
    {
      "cell_type": "code",
      "source": [
        "varlist.remove(pi)\n",
        "print(varlist)"
      ],
      "metadata": {
        "colab": {
          "base_uri": "https://localhost:8080/"
        },
        "id": "OtaqvC73KVGi",
        "outputId": "1c722e7f-90ba-4522-8dfb-37ee3dc09230"
      },
      "execution_count": 11,
      "outputs": [
        {
          "output_type": "stream",
          "name": "stdout",
          "text": [
            "[1, 2, 'abc', 'Hello', 5]\n"
          ]
        }
      ]
    },
    {
      "cell_type": "markdown",
      "source": [
        "Dictionaries"
      ],
      "metadata": {
        "id": "nxhiBKmsKeoz"
      }
    },
    {
      "cell_type": "code",
      "source": [
        "var = \"Hello World\"\n",
        "varDict = {'first' : 123, \n",
        "           2: 'abc', \n",
        "           '3':var,\n",
        "           4\n",
        "           : ['lista','listb'],\n",
        "           2: 'def',\n",
        "           2: 'ghi'\n",
        "          }\n",
        "print(varDict)"
      ],
      "metadata": {
        "colab": {
          "base_uri": "https://localhost:8080/"
        },
        "id": "dxCn7KsiKgOr",
        "outputId": "2866b801-aa43-4b19-dd0f-e107e56e5f5e"
      },
      "execution_count": 21,
      "outputs": [
        {
          "output_type": "stream",
          "name": "stdout",
          "text": [
            "{'first': 123, 2: 'ghi', '3': 'Hello World', 4: ['lista', 'listb']}\n"
          ]
        }
      ]
    },
    {
      "cell_type": "code",
      "source": [
        "print(varDict[2])"
      ],
      "metadata": {
        "colab": {
          "base_uri": "https://localhost:8080/"
        },
        "id": "RwFYXPUhL7Cb",
        "outputId": "bb51e4e2-35b2-4ca6-83af-f8c32b4f32b0"
      },
      "execution_count": 14,
      "outputs": [
        {
          "output_type": "stream",
          "name": "stdout",
          "text": [
            "abc\n"
          ]
        }
      ]
    },
    {
      "cell_type": "code",
      "source": [
        "print(varDict[4])"
      ],
      "metadata": {
        "colab": {
          "base_uri": "https://localhost:8080/"
        },
        "id": "cUuEaQptL8zT",
        "outputId": "0bcf21e0-2e26-4220-82f2-401d09e80b1e"
      },
      "execution_count": 15,
      "outputs": [
        {
          "output_type": "stream",
          "name": "stdout",
          "text": [
            "['lista', 'listb']\n"
          ]
        }
      ]
    },
    {
      "cell_type": "markdown",
      "source": [
        "Slicing"
      ],
      "metadata": {
        "id": "r2qKYnJUOZZS"
      }
    },
    {
      "cell_type": "code",
      "source": [
        "varlist = [1,2,3,4,5,6,7,8,9,10]\n",
        "print(varlist[:5])"
      ],
      "metadata": {
        "colab": {
          "base_uri": "https://localhost:8080/"
        },
        "id": "65HoBzw5MqbD",
        "outputId": "8067a083-115e-4fe8-ea2b-ebcce80a5199"
      },
      "execution_count": 22,
      "outputs": [
        {
          "output_type": "stream",
          "name": "stdout",
          "text": [
            "[1, 2, 3, 4, 5]\n"
          ]
        }
      ]
    },
    {
      "cell_type": "code",
      "source": [
        "print(varlist[5:])"
      ],
      "metadata": {
        "colab": {
          "base_uri": "https://localhost:8080/"
        },
        "id": "fUo6qTYLObXy",
        "outputId": "e0d83897-1972-42a3-955b-16b935190b1f"
      },
      "execution_count": 23,
      "outputs": [
        {
          "output_type": "stream",
          "name": "stdout",
          "text": [
            "[6, 7, 8, 9, 10]\n"
          ]
        }
      ]
    },
    {
      "cell_type": "code",
      "source": [
        "print(varlist[:-2])"
      ],
      "metadata": {
        "colab": {
          "base_uri": "https://localhost:8080/"
        },
        "id": "GQBIIgJ5OgRD",
        "outputId": "54b2335e-b941-488b-ae45-8115b7e1cdcc"
      },
      "execution_count": 24,
      "outputs": [
        {
          "output_type": "stream",
          "name": "stdout",
          "text": [
            "[1, 2, 3, 4, 5, 6, 7, 8]\n"
          ]
        }
      ]
    },
    {
      "cell_type": "code",
      "source": [
        "print(varlist[-2:])"
      ],
      "metadata": {
        "colab": {
          "base_uri": "https://localhost:8080/"
        },
        "id": "o_zEdfoWOqDC",
        "outputId": "492cd20b-0a7b-4d05-c845-8e8b79fdf2e5"
      },
      "execution_count": 35,
      "outputs": [
        {
          "output_type": "stream",
          "name": "stdout",
          "text": [
            "[9, 10]\n"
          ]
        }
      ]
    },
    {
      "cell_type": "code",
      "source": [
        "#to produce only the first two column in the set\n",
        "varlist = [1,2,3,4,5,6,7,8,9,10]\n",
        "print(varlist[:2])"
      ],
      "metadata": {
        "colab": {
          "base_uri": "https://localhost:8080/"
        },
        "id": "AxBobl7rO_lR",
        "outputId": "0f477170-0bea-44da-d78d-a4292d5f84c6"
      },
      "execution_count": 32,
      "outputs": [
        {
          "output_type": "stream",
          "name": "stdout",
          "text": [
            "[1, 2]\n"
          ]
        }
      ]
    }
  ]
}