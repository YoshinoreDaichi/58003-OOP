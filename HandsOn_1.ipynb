{
  "nbformat": 4,
  "nbformat_minor": 0,
  "metadata": {
    "colab": {
      "provenance": [],
      "authorship_tag": "ABX9TyMPbgKcrL8icroLwod9QCmV",
      "include_colab_link": true
    },
    "kernelspec": {
      "name": "python3",
      "display_name": "Python 3"
    },
    "language_info": {
      "name": "python"
    }
  },
  "cells": [
    {
      "cell_type": "markdown",
      "metadata": {
        "id": "view-in-github",
        "colab_type": "text"
      },
      "source": [
        "<a href=\"https://colab.research.google.com/github/YoshinoreDaichi/58003-OOP/blob/main/HandsOn_1.ipynb\" target=\"_parent\"><img src=\"https://colab.research.google.com/assets/colab-badge.svg\" alt=\"Open In Colab\"/></a>"
      ]
    },
    {
      "cell_type": "code",
      "execution_count": 2,
      "metadata": {
        "colab": {
          "base_uri": "https://localhost:8080/"
        },
        "id": "okfy6j6zVVbn",
        "outputId": "7219e778-6438-4b56-d831-ab06dd835d6d"
      },
      "outputs": [
        {
          "output_type": "stream",
          "name": "stdout",
          "text": [
            "The average grade is 87.33333333333333\n",
            "The average grade is 94.33333333333333\n",
            "The average grade is 88.66666666666667\n"
          ]
        }
      ],
      "source": [
        "class Person:\n",
        "  def __init__(self,pre,mid,fin):\n",
        "    self.pre = pre\n",
        "    self.mid = mid\n",
        "    self.fin = fin\n",
        "\n",
        "  def grade(self):\n",
        "    average = (self.pre+self.mid+self.fin)/3\n",
        "    print(\"The average grade is\",average)\n",
        "\n",
        "std1 = Person(90,85,87)\n",
        "std1.grade()\n",
        "\n",
        "std2 = Person(90,95,98)\n",
        "std2.grade()\n",
        "\n",
        "std3 = Person(89,87,90)\n",
        "std3.grade()"
      ]
    }
  ]
}