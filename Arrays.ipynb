{
  "nbformat": 4,
  "nbformat_minor": 0,
  "metadata": {
    "colab": {
      "provenance": [],
      "authorship_tag": "ABX9TyNQwZ6j+oxlZ+NqkDpenu19",
      "include_colab_link": true
    },
    "kernelspec": {
      "name": "python3",
      "display_name": "Python 3"
    },
    "language_info": {
      "name": "python"
    }
  },
  "cells": [
    {
      "cell_type": "markdown",
      "metadata": {
        "id": "view-in-github",
        "colab_type": "text"
      },
      "source": [
        "<a href=\"https://colab.research.google.com/github/YoshinoreDaichi/58003-OOP/blob/main/Arrays.ipynb\" target=\"_parent\"><img src=\"https://colab.research.google.com/assets/colab-badge.svg\" alt=\"Open In Colab\"/></a>"
      ]
    },
    {
      "cell_type": "code",
      "execution_count": 24,
      "metadata": {
        "colab": {
          "base_uri": "https://localhost:8080/"
        },
        "id": "Fd0Yws0wiWZp",
        "outputId": "4117900a-1618-43da-c344-17c94b9690f2"
      },
      "outputs": [
        {
          "output_type": "stream",
          "name": "stdout",
          "text": [
            "cat\n",
            "dog\n",
            "fish\n"
          ]
        }
      ],
      "source": [
        "#Creating array elements\n",
        "animals=[\"cat\", \"dog\", \"fish\"]\n",
        "x = animals[0]\n",
        "print(x)\n",
        "y = animals[1]\n",
        "print(y)\n",
        "z = animals [2]\n",
        "print(z)"
      ]
    },
    {
      "cell_type": "code",
      "source": [
        "#modifying array elements\n",
        "animals[0]='monkey'\n",
        "print(animals[0])\n",
        "print(\"The array of animals:\",animals)"
      ],
      "metadata": {
        "colab": {
          "base_uri": "https://localhost:8080/"
        },
        "id": "y3zXSf2Njm_1",
        "outputId": "f24842f2-6f55-4f6a-ee2a-f5e7951f08c8"
      },
      "execution_count": 25,
      "outputs": [
        {
          "output_type": "stream",
          "name": "stdout",
          "text": [
            "monkey\n",
            "The array of animals: ['monkey', 'dog', 'fish']\n"
          ]
        }
      ]
    },
    {
      "cell_type": "code",
      "source": [
        "#Length of an array\n",
        "x = len(animals)\n",
        "print(x)"
      ],
      "metadata": {
        "colab": {
          "base_uri": "https://localhost:8080/"
        },
        "id": "uQX4NaSOkhUK",
        "outputId": "8a9a3017-0216-4f0d-df6a-402570763e9f"
      },
      "execution_count": 26,
      "outputs": [
        {
          "output_type": "stream",
          "name": "stdout",
          "text": [
            "3\n"
          ]
        }
      ]
    },
    {
      "cell_type": "code",
      "source": [
        "#Deletion of elements in an array\n",
        "\n",
        "print(animals)"
      ],
      "metadata": {
        "colab": {
          "base_uri": "https://localhost:8080/"
        },
        "id": "BwHJagtWkvJJ",
        "outputId": "4f2069b4-0c40-4d9d-d9db-ac7d6e8e14fd"
      },
      "execution_count": 27,
      "outputs": [
        {
          "output_type": "stream",
          "name": "stdout",
          "text": [
            "['monkey', 'dog', 'fish']\n"
          ]
        }
      ]
    },
    {
      "cell_type": "code",
      "source": [
        "#append element in array\n",
        "animals = ['monkey,', 'cat', 'dog','fish']\n",
        "animals.append(\"bird\")\n",
        "print(animals)"
      ],
      "metadata": {
        "colab": {
          "base_uri": "https://localhost:8080/"
        },
        "id": "Cq-lwfOcmQOK",
        "outputId": "a409e60a-440b-4b3d-9305-35f93c8af99f"
      },
      "execution_count": 28,
      "outputs": [
        {
          "output_type": "stream",
          "name": "stdout",
          "text": [
            "['monkey,', 'cat', 'dog', 'fish', 'bird']\n"
          ]
        }
      ]
    },
    {
      "cell_type": "code",
      "source": [
        "#append element in array\n",
        "animals = ['monkey,', 'cat', 'dog','fish']\n",
        "animals.insert(0,\"bird\")\n",
        "print(animals)\n",
        "animals.insert(2,\"lion\")\n",
        "print(animals)"
      ],
      "metadata": {
        "colab": {
          "base_uri": "https://localhost:8080/"
        },
        "id": "_ryUxz3om7oJ",
        "outputId": "e692954d-4608-430c-8a53-0dd283acebff"
      },
      "execution_count": 29,
      "outputs": [
        {
          "output_type": "stream",
          "name": "stdout",
          "text": [
            "['bird', 'monkey,', 'cat', 'dog', 'fish']\n",
            "['bird', 'monkey,', 'lion', 'cat', 'dog', 'fish']\n"
          ]
        }
      ]
    },
    {
      "cell_type": "code",
      "source": [
        "#delete dog from array elements\n",
        "animals.remove(\"dog\")\n",
        "print(animals)"
      ],
      "metadata": {
        "colab": {
          "base_uri": "https://localhost:8080/"
        },
        "id": "jPvr4Vn-nVvh",
        "outputId": "01514f24-b812-4db0-dfd4-def33ce1080e"
      },
      "execution_count": 30,
      "outputs": [
        {
          "output_type": "stream",
          "name": "stdout",
          "text": [
            "['bird', 'monkey,', 'lion', 'cat', 'fish']\n"
          ]
        }
      ]
    }
  ]
}