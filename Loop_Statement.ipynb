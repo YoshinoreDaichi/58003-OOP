{
  "nbformat": 4,
  "nbformat_minor": 0,
  "metadata": {
    "colab": {
      "provenance": [],
      "authorship_tag": "ABX9TyOc3JIgGyX3gf8BTNNoQ/TD",
      "include_colab_link": true
    },
    "kernelspec": {
      "name": "python3",
      "display_name": "Python 3"
    },
    "language_info": {
      "name": "python"
    }
  },
  "cells": [
    {
      "cell_type": "markdown",
      "metadata": {
        "id": "view-in-github",
        "colab_type": "text"
      },
      "source": [
        "<a href=\"https://colab.research.google.com/github/YoshinoreDaichi/58003-OOP/blob/main/Loop_Statement.ipynb\" target=\"_parent\"><img src=\"https://colab.research.google.com/assets/colab-badge.svg\" alt=\"Open In Colab\"/></a>"
      ]
    },
    {
      "cell_type": "markdown",
      "source": [
        "For Loop"
      ],
      "metadata": {
        "id": "Zrubn9WSiBwE"
      }
    },
    {
      "cell_type": "code",
      "execution_count": 1,
      "metadata": {
        "colab": {
          "base_uri": "https://localhost:8080/"
        },
        "id": "dOhKzvdegID4",
        "outputId": "c7f10c9e-34cf-4342-c81b-9d19cd6a3a19"
      },
      "outputs": [
        {
          "output_type": "stream",
          "name": "stdout",
          "text": [
            "Sunday\n",
            "Monday\n",
            "Tuesday\n",
            "Wednesday\n",
            "Thursday\n",
            "Friday\n",
            "Saturday\n"
          ]
        }
      ],
      "source": [
        "week=[\"Sunday\",\"Monday\",\"Tuesday\",\"Wednesday\",\"Thursday\",\"Friday\",\"Saturday\"]\n",
        "for x in week:\n",
        "  print(x)"
      ]
    },
    {
      "cell_type": "markdown",
      "source": [
        "Nested For Loop"
      ],
      "metadata": {
        "id": "pJpnDPM-idYc"
      }
    },
    {
      "cell_type": "code",
      "source": [
        "adjective = [\"big\",'tasty',\"juicy\"]\n",
        "fruits = [\"banana\",\"apple\",\"cherry\"]\n",
        "\n",
        "for x in adjective:\n",
        "  for y in fruits:\n",
        "    print(x,y)"
      ],
      "metadata": {
        "colab": {
          "base_uri": "https://localhost:8080/"
        },
        "id": "tJr95qSDi7Ck",
        "outputId": "807ebbe3-d8fb-4481-c14e-3c1fa8ecb28e"
      },
      "execution_count": 2,
      "outputs": [
        {
          "output_type": "stream",
          "name": "stdout",
          "text": [
            "big banana\n",
            "big apple\n",
            "big cherry\n",
            "tasty banana\n",
            "tasty apple\n",
            "tasty cherry\n",
            "juicy banana\n",
            "juicy apple\n",
            "juicy cherry\n"
          ]
        }
      ]
    },
    {
      "cell_type": "markdown",
      "source": [
        " Break Statement in For Loop"
      ],
      "metadata": {
        "id": "ICbgDY9HkCXj"
      }
    },
    {
      "cell_type": "code",
      "source": [
        "week = [\"Sunday\",\"Monday\",\"Tuesday\",\"Wednesday\",\"Thursday\",\"Friday\",\"Saturday\"]\n",
        "for x in week:\n",
        "  if x ==\"Thursday\":\n",
        "    break\n",
        "  print(x)\n"
      ],
      "metadata": {
        "colab": {
          "base_uri": "https://localhost:8080/"
        },
        "id": "SY5JEkuekG6T",
        "outputId": "c3ec6ded-206a-446e-f035-cd42e8b29524"
      },
      "execution_count": 5,
      "outputs": [
        {
          "output_type": "stream",
          "name": "stdout",
          "text": [
            "Sunday\n",
            "Monday\n",
            "Tuesday\n",
            "Wednesday\n"
          ]
        }
      ]
    },
    {
      "cell_type": "markdown",
      "source": [
        "Print only Thursday using break statement in loop"
      ],
      "metadata": {
        "id": "nA2Ssmh9lMHC"
      }
    },
    {
      "cell_type": "code",
      "source": [
        "week = [\"Sunday\",'Monday','Tuesday','Wednesday','Thursday','Friday','Saturday']\n",
        "for x in week:\n",
        "  if x =='Thursday':\n",
        "    print (x)\n",
        "    break"
      ],
      "metadata": {
        "colab": {
          "base_uri": "https://localhost:8080/"
        },
        "id": "nWdcEHpMlYsa",
        "outputId": "3fe35b48-9bf3-4cae-896e-760a19dce25e"
      },
      "execution_count": 8,
      "outputs": [
        {
          "output_type": "stream",
          "name": "stdout",
          "text": [
            "Thursday\n"
          ]
        }
      ]
    },
    {
      "cell_type": "markdown",
      "source": [
        "Looping to String"
      ],
      "metadata": {
        "id": "jpkvdfEamdox"
      }
    },
    {
      "cell_type": "code",
      "source": [
        "for x in\"Philippines\":\n",
        "  print(x)"
      ],
      "metadata": {
        "colab": {
          "base_uri": "https://localhost:8080/"
        },
        "id": "WICbuaRfml6q",
        "outputId": "6ad28809-4dfc-441d-e9e8-f07ee2b09e56"
      },
      "execution_count": 15,
      "outputs": [
        {
          "output_type": "stream",
          "name": "stdout",
          "text": [
            "P\n",
            "h\n",
            "i\n",
            "l\n",
            "i\n",
            "p\n",
            "p\n",
            "i\n",
            "n\n",
            "e\n",
            "s\n"
          ]
        }
      ]
    },
    {
      "cell_type": "markdown",
      "source": [
        " While Loop\n"
      ],
      "metadata": {
        "id": "ZjB6I3WTm-zL"
      }
    },
    {
      "cell_type": "code",
      "source": [
        "i = 1\n",
        "while i<=6:\n",
        "  print(i)\n",
        "  i+=1"
      ],
      "metadata": {
        "colab": {
          "base_uri": "https://localhost:8080/"
        },
        "id": "6LycNJ19nTST",
        "outputId": "5859b018-6fef-4f10-c872-dfbd8819a8a7"
      },
      "execution_count": 17,
      "outputs": [
        {
          "output_type": "stream",
          "name": "stdout",
          "text": [
            "1\n",
            "2\n",
            "3\n",
            "4\n",
            "5\n",
            "6\n"
          ]
        }
      ]
    },
    {
      "cell_type": "markdown",
      "source": [
        "while loop using break statement"
      ],
      "metadata": {
        "id": "od3NTJ7LnfE7"
      }
    },
    {
      "cell_type": "code",
      "source": [
        "i = 1\n",
        "while i<6:\n",
        "  if i == 4:   \n",
        "   print(i)\n",
        "   break\n",
        "  i+=1\n",
        "            #to display only 4\n",
        "    "
      ],
      "metadata": {
        "colab": {
          "base_uri": "https://localhost:8080/"
        },
        "id": "o-sXHywTnY27",
        "outputId": "a8921c55-ed7f-48bb-98f9-ca552d56bd8d"
      },
      "execution_count": 24,
      "outputs": [
        {
          "output_type": "stream",
          "name": "stdout",
          "text": [
            "4\n"
          ]
        }
      ]
    },
    {
      "cell_type": "markdown",
      "source": [
        "Application 1"
      ],
      "metadata": {
        "id": "Tjfi2eYTsZ-f"
      }
    },
    {
      "cell_type": "code",
      "source": [
        "i = \"Hello\"\n",
        "x = 1\n",
        "while x<=10:\n",
        "   print(i,x)\n",
        "   x+=1"
      ],
      "metadata": {
        "colab": {
          "base_uri": "https://localhost:8080/"
        },
        "id": "MJhg58Z8pnZG",
        "outputId": "d5f777f5-5611-4197-a97c-a289f5a1bfb5"
      },
      "execution_count": 30,
      "outputs": [
        {
          "output_type": "stream",
          "name": "stdout",
          "text": [
            "Hello 1\n",
            "Hello 2\n",
            "Hello 3\n",
            "Hello 4\n",
            "Hello 5\n",
            "Hello 6\n",
            "Hello 7\n",
            "Hello 8\n",
            "Hello 9\n",
            "Hello 10\n"
          ]
        }
      ]
    },
    {
      "cell_type": "markdown",
      "source": [
        "Application 2"
      ],
      "metadata": {
        "id": "tRIyfmBWsW2g"
      }
    },
    {
      "cell_type": "code",
      "source": [
        "i = 3\n",
        "while i<10:\n",
        "  print(i)\n",
        "  i+=1"
      ],
      "metadata": {
        "colab": {
          "base_uri": "https://localhost:8080/"
        },
        "id": "FvX3JIFJq4RG",
        "outputId": "2e278d0a-8ef9-4694-86a4-1ed29d033866"
      },
      "execution_count": 31,
      "outputs": [
        {
          "output_type": "stream",
          "name": "stdout",
          "text": [
            "3\n",
            "4\n",
            "5\n",
            "6\n",
            "7\n",
            "8\n",
            "9\n"
          ]
        }
      ]
    }
  ]
}